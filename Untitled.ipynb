{
 "cells": [
  {
   "cell_type": "code",
   "execution_count": 1,
   "metadata": {},
   "outputs": [],
   "source": [
    "import numpy as np\n",
    "import pandas as pd\n",
    "import warnings\n",
    "warnings.filterwarnings('ignore')"
   ]
  },
  {
   "cell_type": "code",
   "execution_count": 178,
   "metadata": {},
   "outputs": [],
   "source": [
    "data=pd.read_excel(\"Data_Train.xlsx\")"
   ]
  },
  {
   "cell_type": "code",
   "execution_count": 179,
   "metadata": {},
   "outputs": [],
   "source": [
    "data.tail()\n",
    "#data[pd.isnull(data[\"Power\"])]\n",
    "d=data"
   ]
  },
  {
   "cell_type": "code",
   "execution_count": 80,
   "metadata": {},
   "outputs": [],
   "source": [
    "test=pd.read_excel(\"Data_test.xlsx\")"
   ]
  },
  {
   "cell_type": "code",
   "execution_count": 81,
   "metadata": {},
   "outputs": [
    {
     "data": {
      "text/html": [
       "<div>\n",
       "<style scoped>\n",
       "    .dataframe tbody tr th:only-of-type {\n",
       "        vertical-align: middle;\n",
       "    }\n",
       "\n",
       "    .dataframe tbody tr th {\n",
       "        vertical-align: top;\n",
       "    }\n",
       "\n",
       "    .dataframe thead th {\n",
       "        text-align: right;\n",
       "    }\n",
       "</style>\n",
       "<table border=\"1\" class=\"dataframe\">\n",
       "  <thead>\n",
       "    <tr style=\"text-align: right;\">\n",
       "      <th></th>\n",
       "      <th>Name</th>\n",
       "      <th>Location</th>\n",
       "      <th>Year</th>\n",
       "      <th>Kilometers_Driven</th>\n",
       "      <th>Fuel_Type</th>\n",
       "      <th>Transmission</th>\n",
       "      <th>Owner_Type</th>\n",
       "      <th>Mileage</th>\n",
       "      <th>Engine</th>\n",
       "      <th>Power</th>\n",
       "      <th>Seats</th>\n",
       "      <th>New_Price</th>\n",
       "    </tr>\n",
       "  </thead>\n",
       "  <tbody>\n",
       "    <tr>\n",
       "      <th>1229</th>\n",
       "      <td>Volkswagen Vento Diesel Trendline</td>\n",
       "      <td>Hyderabad</td>\n",
       "      <td>2011</td>\n",
       "      <td>89411</td>\n",
       "      <td>Diesel</td>\n",
       "      <td>Manual</td>\n",
       "      <td>First</td>\n",
       "      <td>20.54 kmpl</td>\n",
       "      <td>1598 CC</td>\n",
       "      <td>103.6 bhp</td>\n",
       "      <td>5.0</td>\n",
       "      <td>NaN</td>\n",
       "    </tr>\n",
       "    <tr>\n",
       "      <th>1230</th>\n",
       "      <td>Volkswagen Polo GT TSI</td>\n",
       "      <td>Mumbai</td>\n",
       "      <td>2015</td>\n",
       "      <td>59000</td>\n",
       "      <td>Petrol</td>\n",
       "      <td>Automatic</td>\n",
       "      <td>First</td>\n",
       "      <td>17.21 kmpl</td>\n",
       "      <td>1197 CC</td>\n",
       "      <td>103.6 bhp</td>\n",
       "      <td>5.0</td>\n",
       "      <td>NaN</td>\n",
       "    </tr>\n",
       "    <tr>\n",
       "      <th>1231</th>\n",
       "      <td>Nissan Micra Diesel XV</td>\n",
       "      <td>Kolkata</td>\n",
       "      <td>2012</td>\n",
       "      <td>28000</td>\n",
       "      <td>Diesel</td>\n",
       "      <td>Manual</td>\n",
       "      <td>First</td>\n",
       "      <td>23.08 kmpl</td>\n",
       "      <td>1461 CC</td>\n",
       "      <td>63.1 bhp</td>\n",
       "      <td>5.0</td>\n",
       "      <td>NaN</td>\n",
       "    </tr>\n",
       "    <tr>\n",
       "      <th>1232</th>\n",
       "      <td>Volkswagen Polo GT TSI</td>\n",
       "      <td>Pune</td>\n",
       "      <td>2013</td>\n",
       "      <td>52262</td>\n",
       "      <td>Petrol</td>\n",
       "      <td>Automatic</td>\n",
       "      <td>Third</td>\n",
       "      <td>17.2 kmpl</td>\n",
       "      <td>1197 CC</td>\n",
       "      <td>103.6 bhp</td>\n",
       "      <td>5.0</td>\n",
       "      <td>NaN</td>\n",
       "    </tr>\n",
       "    <tr>\n",
       "      <th>1233</th>\n",
       "      <td>Mercedes-Benz E-Class 2009-2013 E 220 CDI Avan...</td>\n",
       "      <td>Kochi</td>\n",
       "      <td>2014</td>\n",
       "      <td>72443</td>\n",
       "      <td>Diesel</td>\n",
       "      <td>Automatic</td>\n",
       "      <td>First</td>\n",
       "      <td>10.0 kmpl</td>\n",
       "      <td>2148 CC</td>\n",
       "      <td>170 bhp</td>\n",
       "      <td>5.0</td>\n",
       "      <td>NaN</td>\n",
       "    </tr>\n",
       "  </tbody>\n",
       "</table>\n",
       "</div>"
      ],
      "text/plain": [
       "                                                   Name   Location  Year  \\\n",
       "1229                  Volkswagen Vento Diesel Trendline  Hyderabad  2011   \n",
       "1230                             Volkswagen Polo GT TSI     Mumbai  2015   \n",
       "1231                             Nissan Micra Diesel XV    Kolkata  2012   \n",
       "1232                             Volkswagen Polo GT TSI       Pune  2013   \n",
       "1233  Mercedes-Benz E-Class 2009-2013 E 220 CDI Avan...      Kochi  2014   \n",
       "\n",
       "      Kilometers_Driven Fuel_Type Transmission Owner_Type     Mileage  \\\n",
       "1229              89411    Diesel       Manual      First  20.54 kmpl   \n",
       "1230              59000    Petrol    Automatic      First  17.21 kmpl   \n",
       "1231              28000    Diesel       Manual      First  23.08 kmpl   \n",
       "1232              52262    Petrol    Automatic      Third   17.2 kmpl   \n",
       "1233              72443    Diesel    Automatic      First   10.0 kmpl   \n",
       "\n",
       "       Engine      Power  Seats New_Price  \n",
       "1229  1598 CC  103.6 bhp    5.0       NaN  \n",
       "1230  1197 CC  103.6 bhp    5.0       NaN  \n",
       "1231  1461 CC   63.1 bhp    5.0       NaN  \n",
       "1232  1197 CC  103.6 bhp    5.0       NaN  \n",
       "1233  2148 CC    170 bhp    5.0       NaN  "
      ]
     },
     "execution_count": 81,
     "metadata": {},
     "output_type": "execute_result"
    }
   ],
   "source": [
    "test.tail()"
   ]
  },
  {
   "cell_type": "code",
   "execution_count": 4,
   "metadata": {},
   "outputs": [],
   "source": [
    "#!pip install xlrd"
   ]
  },
  {
   "cell_type": "code",
   "execution_count": 5,
   "metadata": {},
   "outputs": [
    {
     "data": {
      "text/html": [
       "<div>\n",
       "<style scoped>\n",
       "    .dataframe tbody tr th:only-of-type {\n",
       "        vertical-align: middle;\n",
       "    }\n",
       "\n",
       "    .dataframe tbody tr th {\n",
       "        vertical-align: top;\n",
       "    }\n",
       "\n",
       "    .dataframe thead th {\n",
       "        text-align: right;\n",
       "    }\n",
       "</style>\n",
       "<table border=\"1\" class=\"dataframe\">\n",
       "  <thead>\n",
       "    <tr style=\"text-align: right;\">\n",
       "      <th></th>\n",
       "      <th>Name</th>\n",
       "      <th>Location</th>\n",
       "      <th>Year</th>\n",
       "      <th>Kilometers_Driven</th>\n",
       "      <th>Fuel_Type</th>\n",
       "      <th>Transmission</th>\n",
       "      <th>Owner_Type</th>\n",
       "      <th>Mileage</th>\n",
       "      <th>Engine</th>\n",
       "      <th>Power</th>\n",
       "      <th>Seats</th>\n",
       "      <th>New_Price</th>\n",
       "      <th>Price</th>\n",
       "    </tr>\n",
       "  </thead>\n",
       "  <tbody>\n",
       "    <tr>\n",
       "      <th>0</th>\n",
       "      <td>Maruti Wagon R LXI CNG</td>\n",
       "      <td>Mumbai</td>\n",
       "      <td>2010</td>\n",
       "      <td>72000</td>\n",
       "      <td>CNG</td>\n",
       "      <td>Manual</td>\n",
       "      <td>First</td>\n",
       "      <td>26.6 km/kg</td>\n",
       "      <td>998 CC</td>\n",
       "      <td>58.16 bhp</td>\n",
       "      <td>5.0</td>\n",
       "      <td>NaN</td>\n",
       "      <td>1.75</td>\n",
       "    </tr>\n",
       "    <tr>\n",
       "      <th>1</th>\n",
       "      <td>Hyundai Creta 1.6 CRDi SX Option</td>\n",
       "      <td>Pune</td>\n",
       "      <td>2015</td>\n",
       "      <td>41000</td>\n",
       "      <td>Diesel</td>\n",
       "      <td>Manual</td>\n",
       "      <td>First</td>\n",
       "      <td>19.67 kmpl</td>\n",
       "      <td>1582 CC</td>\n",
       "      <td>126.2 bhp</td>\n",
       "      <td>5.0</td>\n",
       "      <td>NaN</td>\n",
       "      <td>12.50</td>\n",
       "    </tr>\n",
       "    <tr>\n",
       "      <th>2</th>\n",
       "      <td>Honda Jazz V</td>\n",
       "      <td>Chennai</td>\n",
       "      <td>2011</td>\n",
       "      <td>46000</td>\n",
       "      <td>Petrol</td>\n",
       "      <td>Manual</td>\n",
       "      <td>First</td>\n",
       "      <td>18.2 kmpl</td>\n",
       "      <td>1199 CC</td>\n",
       "      <td>88.7 bhp</td>\n",
       "      <td>5.0</td>\n",
       "      <td>8.61 Lakh</td>\n",
       "      <td>4.50</td>\n",
       "    </tr>\n",
       "    <tr>\n",
       "      <th>3</th>\n",
       "      <td>Maruti Ertiga VDI</td>\n",
       "      <td>Chennai</td>\n",
       "      <td>2012</td>\n",
       "      <td>87000</td>\n",
       "      <td>Diesel</td>\n",
       "      <td>Manual</td>\n",
       "      <td>First</td>\n",
       "      <td>20.77 kmpl</td>\n",
       "      <td>1248 CC</td>\n",
       "      <td>88.76 bhp</td>\n",
       "      <td>7.0</td>\n",
       "      <td>NaN</td>\n",
       "      <td>6.00</td>\n",
       "    </tr>\n",
       "    <tr>\n",
       "      <th>4</th>\n",
       "      <td>Audi A4 New 2.0 TDI Multitronic</td>\n",
       "      <td>Coimbatore</td>\n",
       "      <td>2013</td>\n",
       "      <td>40670</td>\n",
       "      <td>Diesel</td>\n",
       "      <td>Automatic</td>\n",
       "      <td>Second</td>\n",
       "      <td>15.2 kmpl</td>\n",
       "      <td>1968 CC</td>\n",
       "      <td>140.8 bhp</td>\n",
       "      <td>5.0</td>\n",
       "      <td>NaN</td>\n",
       "      <td>17.74</td>\n",
       "    </tr>\n",
       "  </tbody>\n",
       "</table>\n",
       "</div>"
      ],
      "text/plain": [
       "                               Name    Location  Year  Kilometers_Driven  \\\n",
       "0            Maruti Wagon R LXI CNG      Mumbai  2010              72000   \n",
       "1  Hyundai Creta 1.6 CRDi SX Option        Pune  2015              41000   \n",
       "2                      Honda Jazz V     Chennai  2011              46000   \n",
       "3                 Maruti Ertiga VDI     Chennai  2012              87000   \n",
       "4   Audi A4 New 2.0 TDI Multitronic  Coimbatore  2013              40670   \n",
       "\n",
       "  Fuel_Type Transmission Owner_Type     Mileage   Engine      Power  Seats  \\\n",
       "0       CNG       Manual      First  26.6 km/kg   998 CC  58.16 bhp    5.0   \n",
       "1    Diesel       Manual      First  19.67 kmpl  1582 CC  126.2 bhp    5.0   \n",
       "2    Petrol       Manual      First   18.2 kmpl  1199 CC   88.7 bhp    5.0   \n",
       "3    Diesel       Manual      First  20.77 kmpl  1248 CC  88.76 bhp    7.0   \n",
       "4    Diesel    Automatic     Second   15.2 kmpl  1968 CC  140.8 bhp    5.0   \n",
       "\n",
       "   New_Price  Price  \n",
       "0        NaN   1.75  \n",
       "1        NaN  12.50  \n",
       "2  8.61 Lakh   4.50  \n",
       "3        NaN   6.00  \n",
       "4        NaN  17.74  "
      ]
     },
     "execution_count": 5,
     "metadata": {},
     "output_type": "execute_result"
    }
   ],
   "source": [
    "data.head()"
   ]
  },
  {
   "cell_type": "code",
   "execution_count": 113,
   "metadata": {},
   "outputs": [],
   "source": [
    "#data[pd.isnull(data[\"Power\"])]"
   ]
  },
  {
   "cell_type": "code",
   "execution_count": 114,
   "metadata": {},
   "outputs": [],
   "source": [
    "data.drop(labels=\"Price\",axis=1,inplace=True)"
   ]
  },
  {
   "cell_type": "code",
   "execution_count": 115,
   "metadata": {},
   "outputs": [],
   "source": [
    "data=pd.concat([data,test])"
   ]
  },
  {
   "cell_type": "code",
   "execution_count": 116,
   "metadata": {},
   "outputs": [
    {
     "data": {
      "text/plain": [
       "(7253, 12)"
      ]
     },
     "execution_count": 116,
     "metadata": {},
     "output_type": "execute_result"
    }
   ],
   "source": [
    "data.shape"
   ]
  },
  {
   "cell_type": "code",
   "execution_count": 117,
   "metadata": {},
   "outputs": [
    {
     "data": {
      "text/plain": [
       "Name                    0\n",
       "Location                0\n",
       "Year                    0\n",
       "Kilometers_Driven       0\n",
       "Fuel_Type               0\n",
       "Transmission            0\n",
       "Owner_Type              0\n",
       "Mileage                 2\n",
       "Engine                 46\n",
       "Power                  46\n",
       "Seats                  53\n",
       "New_Price            6247\n",
       "dtype: int64"
      ]
     },
     "execution_count": 117,
     "metadata": {},
     "output_type": "execute_result"
    }
   ],
   "source": [
    "data.isnull().sum()"
   ]
  },
  {
   "cell_type": "code",
   "execution_count": 118,
   "metadata": {},
   "outputs": [
    {
     "data": {
      "text/html": [
       "<div>\n",
       "<style scoped>\n",
       "    .dataframe tbody tr th:only-of-type {\n",
       "        vertical-align: middle;\n",
       "    }\n",
       "\n",
       "    .dataframe tbody tr th {\n",
       "        vertical-align: top;\n",
       "    }\n",
       "\n",
       "    .dataframe thead th {\n",
       "        text-align: right;\n",
       "    }\n",
       "</style>\n",
       "<table border=\"1\" class=\"dataframe\">\n",
       "  <thead>\n",
       "    <tr style=\"text-align: right;\">\n",
       "      <th></th>\n",
       "      <th>Name</th>\n",
       "      <th>Location</th>\n",
       "      <th>Year</th>\n",
       "      <th>Kilometers_Driven</th>\n",
       "      <th>Fuel_Type</th>\n",
       "      <th>Transmission</th>\n",
       "      <th>Owner_Type</th>\n",
       "      <th>Mileage</th>\n",
       "      <th>Engine</th>\n",
       "      <th>Power</th>\n",
       "      <th>Seats</th>\n",
       "      <th>New_Price</th>\n",
       "    </tr>\n",
       "  </thead>\n",
       "  <tbody>\n",
       "    <tr>\n",
       "      <th>0</th>\n",
       "      <td>Maruti Wagon R LXI CNG</td>\n",
       "      <td>Mumbai</td>\n",
       "      <td>2010</td>\n",
       "      <td>72000</td>\n",
       "      <td>CNG</td>\n",
       "      <td>Manual</td>\n",
       "      <td>First</td>\n",
       "      <td>26.6 km/kg</td>\n",
       "      <td>998 CC</td>\n",
       "      <td>58.16 bhp</td>\n",
       "      <td>5.0</td>\n",
       "      <td>NaN</td>\n",
       "    </tr>\n",
       "    <tr>\n",
       "      <th>1</th>\n",
       "      <td>Hyundai Creta 1.6 CRDi SX Option</td>\n",
       "      <td>Pune</td>\n",
       "      <td>2015</td>\n",
       "      <td>41000</td>\n",
       "      <td>Diesel</td>\n",
       "      <td>Manual</td>\n",
       "      <td>First</td>\n",
       "      <td>19.67 kmpl</td>\n",
       "      <td>1582 CC</td>\n",
       "      <td>126.2 bhp</td>\n",
       "      <td>5.0</td>\n",
       "      <td>NaN</td>\n",
       "    </tr>\n",
       "    <tr>\n",
       "      <th>2</th>\n",
       "      <td>Honda Jazz V</td>\n",
       "      <td>Chennai</td>\n",
       "      <td>2011</td>\n",
       "      <td>46000</td>\n",
       "      <td>Petrol</td>\n",
       "      <td>Manual</td>\n",
       "      <td>First</td>\n",
       "      <td>18.2 kmpl</td>\n",
       "      <td>1199 CC</td>\n",
       "      <td>88.7 bhp</td>\n",
       "      <td>5.0</td>\n",
       "      <td>8.61 Lakh</td>\n",
       "    </tr>\n",
       "    <tr>\n",
       "      <th>3</th>\n",
       "      <td>Maruti Ertiga VDI</td>\n",
       "      <td>Chennai</td>\n",
       "      <td>2012</td>\n",
       "      <td>87000</td>\n",
       "      <td>Diesel</td>\n",
       "      <td>Manual</td>\n",
       "      <td>First</td>\n",
       "      <td>20.77 kmpl</td>\n",
       "      <td>1248 CC</td>\n",
       "      <td>88.76 bhp</td>\n",
       "      <td>7.0</td>\n",
       "      <td>NaN</td>\n",
       "    </tr>\n",
       "    <tr>\n",
       "      <th>4</th>\n",
       "      <td>Audi A4 New 2.0 TDI Multitronic</td>\n",
       "      <td>Coimbatore</td>\n",
       "      <td>2013</td>\n",
       "      <td>40670</td>\n",
       "      <td>Diesel</td>\n",
       "      <td>Automatic</td>\n",
       "      <td>Second</td>\n",
       "      <td>15.2 kmpl</td>\n",
       "      <td>1968 CC</td>\n",
       "      <td>140.8 bhp</td>\n",
       "      <td>5.0</td>\n",
       "      <td>NaN</td>\n",
       "    </tr>\n",
       "  </tbody>\n",
       "</table>\n",
       "</div>"
      ],
      "text/plain": [
       "                               Name    Location  Year  Kilometers_Driven  \\\n",
       "0            Maruti Wagon R LXI CNG      Mumbai  2010              72000   \n",
       "1  Hyundai Creta 1.6 CRDi SX Option        Pune  2015              41000   \n",
       "2                      Honda Jazz V     Chennai  2011              46000   \n",
       "3                 Maruti Ertiga VDI     Chennai  2012              87000   \n",
       "4   Audi A4 New 2.0 TDI Multitronic  Coimbatore  2013              40670   \n",
       "\n",
       "  Fuel_Type Transmission Owner_Type     Mileage   Engine      Power  Seats  \\\n",
       "0       CNG       Manual      First  26.6 km/kg   998 CC  58.16 bhp    5.0   \n",
       "1    Diesel       Manual      First  19.67 kmpl  1582 CC  126.2 bhp    5.0   \n",
       "2    Petrol       Manual      First   18.2 kmpl  1199 CC   88.7 bhp    5.0   \n",
       "3    Diesel       Manual      First  20.77 kmpl  1248 CC  88.76 bhp    7.0   \n",
       "4    Diesel    Automatic     Second   15.2 kmpl  1968 CC  140.8 bhp    5.0   \n",
       "\n",
       "   New_Price  \n",
       "0        NaN  \n",
       "1        NaN  \n",
       "2  8.61 Lakh  \n",
       "3        NaN  \n",
       "4        NaN  "
      ]
     },
     "execution_count": 118,
     "metadata": {},
     "output_type": "execute_result"
    }
   ],
   "source": [
    "data.head()"
   ]
  },
  {
   "cell_type": "code",
   "execution_count": 119,
   "metadata": {},
   "outputs": [
    {
     "data": {
      "text/plain": [
       "Name                  object\n",
       "Location              object\n",
       "Year                   int64\n",
       "Kilometers_Driven      int64\n",
       "Fuel_Type             object\n",
       "Transmission          object\n",
       "Owner_Type            object\n",
       "Mileage               object\n",
       "Engine                object\n",
       "Power                 object\n",
       "Seats                float64\n",
       "New_Price             object\n",
       "dtype: object"
      ]
     },
     "execution_count": 119,
     "metadata": {},
     "output_type": "execute_result"
    }
   ],
   "source": [
    "data.dtypes"
   ]
  },
  {
   "cell_type": "code",
   "execution_count": 120,
   "metadata": {},
   "outputs": [],
   "source": [
    "#x=data[\"Name\"][1].split(\" \")[0:2]"
   ]
  },
  {
   "cell_type": "code",
   "execution_count": 121,
   "metadata": {},
   "outputs": [],
   "source": [
    "def gett(x):\n",
    "    return(x[0]+x[1])"
   ]
  },
  {
   "cell_type": "code",
   "execution_count": 122,
   "metadata": {},
   "outputs": [],
   "source": [
    "#gett(x)"
   ]
  },
  {
   "cell_type": "code",
   "execution_count": 123,
   "metadata": {},
   "outputs": [],
   "source": [
    "data[\"Name\"]=data[\"Name\"].apply(lambda x :x.split(\" \"))\n",
    "data[\"Name\"]=data[\"Name\"].apply(lambda x : gett(x))"
   ]
  },
  {
   "cell_type": "code",
   "execution_count": 124,
   "metadata": {},
   "outputs": [],
   "source": [
    "data[\"how_old\"]=data[\"Year\"].apply(lambda x: 2019-x)"
   ]
  },
  {
   "cell_type": "code",
   "execution_count": 125,
   "metadata": {},
   "outputs": [],
   "source": [
    "data.drop(labels=\"New_Price\",axis=1,inplace=True)"
   ]
  },
  {
   "cell_type": "code",
   "execution_count": 126,
   "metadata": {},
   "outputs": [
    {
     "data": {
      "text/html": [
       "<div>\n",
       "<style scoped>\n",
       "    .dataframe tbody tr th:only-of-type {\n",
       "        vertical-align: middle;\n",
       "    }\n",
       "\n",
       "    .dataframe tbody tr th {\n",
       "        vertical-align: top;\n",
       "    }\n",
       "\n",
       "    .dataframe thead th {\n",
       "        text-align: right;\n",
       "    }\n",
       "</style>\n",
       "<table border=\"1\" class=\"dataframe\">\n",
       "  <thead>\n",
       "    <tr style=\"text-align: right;\">\n",
       "      <th></th>\n",
       "      <th>Name</th>\n",
       "      <th>Location</th>\n",
       "      <th>Year</th>\n",
       "      <th>Kilometers_Driven</th>\n",
       "      <th>Fuel_Type</th>\n",
       "      <th>Transmission</th>\n",
       "      <th>Owner_Type</th>\n",
       "      <th>Mileage</th>\n",
       "      <th>Engine</th>\n",
       "      <th>Power</th>\n",
       "      <th>Seats</th>\n",
       "      <th>how_old</th>\n",
       "    </tr>\n",
       "  </thead>\n",
       "  <tbody>\n",
       "    <tr>\n",
       "      <th>4446</th>\n",
       "      <td>MahindraE</td>\n",
       "      <td>Chennai</td>\n",
       "      <td>2016</td>\n",
       "      <td>50000</td>\n",
       "      <td>Electric</td>\n",
       "      <td>Automatic</td>\n",
       "      <td>First</td>\n",
       "      <td>NaN</td>\n",
       "      <td>72 CC</td>\n",
       "      <td>41 bhp</td>\n",
       "      <td>5.0</td>\n",
       "      <td>3</td>\n",
       "    </tr>\n",
       "    <tr>\n",
       "      <th>4904</th>\n",
       "      <td>ToyotaPrius</td>\n",
       "      <td>Mumbai</td>\n",
       "      <td>2011</td>\n",
       "      <td>44000</td>\n",
       "      <td>Electric</td>\n",
       "      <td>Automatic</td>\n",
       "      <td>First</td>\n",
       "      <td>NaN</td>\n",
       "      <td>1798 CC</td>\n",
       "      <td>73 bhp</td>\n",
       "      <td>5.0</td>\n",
       "      <td>8</td>\n",
       "    </tr>\n",
       "  </tbody>\n",
       "</table>\n",
       "</div>"
      ],
      "text/plain": [
       "             Name Location  Year  Kilometers_Driven Fuel_Type Transmission  \\\n",
       "4446    MahindraE  Chennai  2016              50000  Electric    Automatic   \n",
       "4904  ToyotaPrius   Mumbai  2011              44000  Electric    Automatic   \n",
       "\n",
       "     Owner_Type Mileage   Engine   Power  Seats  how_old  \n",
       "4446      First     NaN    72 CC  41 bhp    5.0        3  \n",
       "4904      First     NaN  1798 CC  73 bhp    5.0        8  "
      ]
     },
     "execution_count": 126,
     "metadata": {},
     "output_type": "execute_result"
    }
   ],
   "source": [
    "data[pd.isnull(data[\"Mileage\"])]"
   ]
  },
  {
   "cell_type": "code",
   "execution_count": 127,
   "metadata": {},
   "outputs": [
    {
     "data": {
      "text/plain": [
       "5.0     6047\n",
       "7.0      796\n",
       "8.0      170\n",
       "4.0      119\n",
       "6.0       38\n",
       "2.0       18\n",
       "10.0       8\n",
       "9.0        3\n",
       "0.0        1\n",
       "Name: Seats, dtype: int64"
      ]
     },
     "execution_count": 127,
     "metadata": {},
     "output_type": "execute_result"
    }
   ],
   "source": [
    "data[\"Seats\"].value_counts()"
   ]
  },
  {
   "cell_type": "code",
   "execution_count": 128,
   "metadata": {},
   "outputs": [],
   "source": [
    "#data[pd.isnull(data[\"Seats\"])]"
   ]
  },
  {
   "cell_type": "code",
   "execution_count": 129,
   "metadata": {},
   "outputs": [
    {
     "data": {
      "text/html": [
       "<div>\n",
       "<style scoped>\n",
       "    .dataframe tbody tr th:only-of-type {\n",
       "        vertical-align: middle;\n",
       "    }\n",
       "\n",
       "    .dataframe tbody tr th {\n",
       "        vertical-align: top;\n",
       "    }\n",
       "\n",
       "    .dataframe thead th {\n",
       "        text-align: right;\n",
       "    }\n",
       "</style>\n",
       "<table border=\"1\" class=\"dataframe\">\n",
       "  <thead>\n",
       "    <tr style=\"text-align: right;\">\n",
       "      <th></th>\n",
       "      <th>Name</th>\n",
       "      <th>Location</th>\n",
       "      <th>Year</th>\n",
       "      <th>Kilometers_Driven</th>\n",
       "      <th>Fuel_Type</th>\n",
       "      <th>Transmission</th>\n",
       "      <th>Owner_Type</th>\n",
       "      <th>Mileage</th>\n",
       "      <th>Engine</th>\n",
       "      <th>Power</th>\n",
       "      <th>Seats</th>\n",
       "      <th>how_old</th>\n",
       "    </tr>\n",
       "  </thead>\n",
       "  <tbody>\n",
       "    <tr>\n",
       "      <th>0</th>\n",
       "      <td>MarutiWagon</td>\n",
       "      <td>Mumbai</td>\n",
       "      <td>2010</td>\n",
       "      <td>72000</td>\n",
       "      <td>CNG</td>\n",
       "      <td>Manual</td>\n",
       "      <td>First</td>\n",
       "      <td>26.6 km/kg</td>\n",
       "      <td>998 CC</td>\n",
       "      <td>58.16 bhp</td>\n",
       "      <td>5.0</td>\n",
       "      <td>9</td>\n",
       "    </tr>\n",
       "    <tr>\n",
       "      <th>1</th>\n",
       "      <td>HyundaiCreta</td>\n",
       "      <td>Pune</td>\n",
       "      <td>2015</td>\n",
       "      <td>41000</td>\n",
       "      <td>Diesel</td>\n",
       "      <td>Manual</td>\n",
       "      <td>First</td>\n",
       "      <td>19.67 kmpl</td>\n",
       "      <td>1582 CC</td>\n",
       "      <td>126.2 bhp</td>\n",
       "      <td>5.0</td>\n",
       "      <td>4</td>\n",
       "    </tr>\n",
       "    <tr>\n",
       "      <th>2</th>\n",
       "      <td>HondaJazz</td>\n",
       "      <td>Chennai</td>\n",
       "      <td>2011</td>\n",
       "      <td>46000</td>\n",
       "      <td>Petrol</td>\n",
       "      <td>Manual</td>\n",
       "      <td>First</td>\n",
       "      <td>18.2 kmpl</td>\n",
       "      <td>1199 CC</td>\n",
       "      <td>88.7 bhp</td>\n",
       "      <td>5.0</td>\n",
       "      <td>8</td>\n",
       "    </tr>\n",
       "    <tr>\n",
       "      <th>3</th>\n",
       "      <td>MarutiErtiga</td>\n",
       "      <td>Chennai</td>\n",
       "      <td>2012</td>\n",
       "      <td>87000</td>\n",
       "      <td>Diesel</td>\n",
       "      <td>Manual</td>\n",
       "      <td>First</td>\n",
       "      <td>20.77 kmpl</td>\n",
       "      <td>1248 CC</td>\n",
       "      <td>88.76 bhp</td>\n",
       "      <td>7.0</td>\n",
       "      <td>7</td>\n",
       "    </tr>\n",
       "    <tr>\n",
       "      <th>4</th>\n",
       "      <td>AudiA4</td>\n",
       "      <td>Coimbatore</td>\n",
       "      <td>2013</td>\n",
       "      <td>40670</td>\n",
       "      <td>Diesel</td>\n",
       "      <td>Automatic</td>\n",
       "      <td>Second</td>\n",
       "      <td>15.2 kmpl</td>\n",
       "      <td>1968 CC</td>\n",
       "      <td>140.8 bhp</td>\n",
       "      <td>5.0</td>\n",
       "      <td>6</td>\n",
       "    </tr>\n",
       "  </tbody>\n",
       "</table>\n",
       "</div>"
      ],
      "text/plain": [
       "           Name    Location  Year  Kilometers_Driven Fuel_Type Transmission  \\\n",
       "0   MarutiWagon      Mumbai  2010              72000       CNG       Manual   \n",
       "1  HyundaiCreta        Pune  2015              41000    Diesel       Manual   \n",
       "2     HondaJazz     Chennai  2011              46000    Petrol       Manual   \n",
       "3  MarutiErtiga     Chennai  2012              87000    Diesel       Manual   \n",
       "4        AudiA4  Coimbatore  2013              40670    Diesel    Automatic   \n",
       "\n",
       "  Owner_Type     Mileage   Engine      Power  Seats  how_old  \n",
       "0      First  26.6 km/kg   998 CC  58.16 bhp    5.0        9  \n",
       "1      First  19.67 kmpl  1582 CC  126.2 bhp    5.0        4  \n",
       "2      First   18.2 kmpl  1199 CC   88.7 bhp    5.0        8  \n",
       "3      First  20.77 kmpl  1248 CC  88.76 bhp    7.0        7  \n",
       "4     Second   15.2 kmpl  1968 CC  140.8 bhp    5.0        6  "
      ]
     },
     "execution_count": 129,
     "metadata": {},
     "output_type": "execute_result"
    }
   ],
   "source": [
    "data.head()"
   ]
  },
  {
   "cell_type": "code",
   "execution_count": 130,
   "metadata": {},
   "outputs": [],
   "source": [
    "setnull=data[[\"Fuel_Type\",\"Power\",\"Transmission\",\"Mileage\",\"Engine\",\"Seats\"]]"
   ]
  },
  {
   "cell_type": "code",
   "execution_count": 131,
   "metadata": {},
   "outputs": [
    {
     "data": {
      "text/html": [
       "<div>\n",
       "<style scoped>\n",
       "    .dataframe tbody tr th:only-of-type {\n",
       "        vertical-align: middle;\n",
       "    }\n",
       "\n",
       "    .dataframe tbody tr th {\n",
       "        vertical-align: top;\n",
       "    }\n",
       "\n",
       "    .dataframe thead th {\n",
       "        text-align: right;\n",
       "    }\n",
       "</style>\n",
       "<table border=\"1\" class=\"dataframe\">\n",
       "  <thead>\n",
       "    <tr style=\"text-align: right;\">\n",
       "      <th></th>\n",
       "      <th>Fuel_Type</th>\n",
       "      <th>Power</th>\n",
       "      <th>Transmission</th>\n",
       "      <th>Mileage</th>\n",
       "      <th>Engine</th>\n",
       "      <th>Seats</th>\n",
       "    </tr>\n",
       "  </thead>\n",
       "  <tbody>\n",
       "    <tr>\n",
       "      <th>0</th>\n",
       "      <td>CNG</td>\n",
       "      <td>58.16 bhp</td>\n",
       "      <td>Manual</td>\n",
       "      <td>26.6 km/kg</td>\n",
       "      <td>998 CC</td>\n",
       "      <td>5.0</td>\n",
       "    </tr>\n",
       "    <tr>\n",
       "      <th>1</th>\n",
       "      <td>Diesel</td>\n",
       "      <td>126.2 bhp</td>\n",
       "      <td>Manual</td>\n",
       "      <td>19.67 kmpl</td>\n",
       "      <td>1582 CC</td>\n",
       "      <td>5.0</td>\n",
       "    </tr>\n",
       "    <tr>\n",
       "      <th>2</th>\n",
       "      <td>Petrol</td>\n",
       "      <td>88.7 bhp</td>\n",
       "      <td>Manual</td>\n",
       "      <td>18.2 kmpl</td>\n",
       "      <td>1199 CC</td>\n",
       "      <td>5.0</td>\n",
       "    </tr>\n",
       "    <tr>\n",
       "      <th>3</th>\n",
       "      <td>Diesel</td>\n",
       "      <td>88.76 bhp</td>\n",
       "      <td>Manual</td>\n",
       "      <td>20.77 kmpl</td>\n",
       "      <td>1248 CC</td>\n",
       "      <td>7.0</td>\n",
       "    </tr>\n",
       "    <tr>\n",
       "      <th>4</th>\n",
       "      <td>Diesel</td>\n",
       "      <td>140.8 bhp</td>\n",
       "      <td>Automatic</td>\n",
       "      <td>15.2 kmpl</td>\n",
       "      <td>1968 CC</td>\n",
       "      <td>5.0</td>\n",
       "    </tr>\n",
       "  </tbody>\n",
       "</table>\n",
       "</div>"
      ],
      "text/plain": [
       "  Fuel_Type      Power Transmission     Mileage   Engine  Seats\n",
       "0       CNG  58.16 bhp       Manual  26.6 km/kg   998 CC    5.0\n",
       "1    Diesel  126.2 bhp       Manual  19.67 kmpl  1582 CC    5.0\n",
       "2    Petrol   88.7 bhp       Manual   18.2 kmpl  1199 CC    5.0\n",
       "3    Diesel  88.76 bhp       Manual  20.77 kmpl  1248 CC    7.0\n",
       "4    Diesel  140.8 bhp    Automatic   15.2 kmpl  1968 CC    5.0"
      ]
     },
     "execution_count": 131,
     "metadata": {},
     "output_type": "execute_result"
    }
   ],
   "source": [
    "setnull.head()"
   ]
  },
  {
   "cell_type": "code",
   "execution_count": 132,
   "metadata": {},
   "outputs": [
    {
     "data": {
      "text/plain": [
       "'26.6'"
      ]
     },
     "execution_count": 132,
     "metadata": {},
     "output_type": "execute_result"
    }
   ],
   "source": [
    "a=\"26.65h\"\n",
    "a[0:4]"
   ]
  },
  {
   "cell_type": "code",
   "execution_count": 133,
   "metadata": {},
   "outputs": [],
   "source": [
    "setnull[\"Mileage\"]=setnull[\"Mileage\"].astype(\"str\")"
   ]
  },
  {
   "cell_type": "code",
   "execution_count": 134,
   "metadata": {},
   "outputs": [],
   "source": [
    "setnull[\"Mileage\"]=setnull[\"Mileage\"].apply(lambda x : x[0:4])"
   ]
  },
  {
   "cell_type": "code",
   "execution_count": 135,
   "metadata": {},
   "outputs": [],
   "source": [
    "setnull[\"Engine\"]=setnull[\"Engine\"].astype(\"str\")"
   ]
  },
  {
   "cell_type": "code",
   "execution_count": 136,
   "metadata": {},
   "outputs": [],
   "source": [
    "setnull[\"Engine\"]=setnull[\"Engine\"].apply(lambda x : x.replace(\"CC\",\"\"))"
   ]
  },
  {
   "cell_type": "code",
   "execution_count": 137,
   "metadata": {},
   "outputs": [],
   "source": [
    "setnull[\"Power\"]=setnull[\"Power\"].astype(\"str\")"
   ]
  },
  {
   "cell_type": "code",
   "execution_count": 138,
   "metadata": {},
   "outputs": [],
   "source": [
    "setnull[\"Power\"]=setnull[\"Power\"].apply(lambda x : x.replace(\"bhp\",\"\"))"
   ]
  },
  {
   "cell_type": "code",
   "execution_count": 139,
   "metadata": {},
   "outputs": [
    {
     "data": {
      "text/html": [
       "<div>\n",
       "<style scoped>\n",
       "    .dataframe tbody tr th:only-of-type {\n",
       "        vertical-align: middle;\n",
       "    }\n",
       "\n",
       "    .dataframe tbody tr th {\n",
       "        vertical-align: top;\n",
       "    }\n",
       "\n",
       "    .dataframe thead th {\n",
       "        text-align: right;\n",
       "    }\n",
       "</style>\n",
       "<table border=\"1\" class=\"dataframe\">\n",
       "  <thead>\n",
       "    <tr style=\"text-align: right;\">\n",
       "      <th></th>\n",
       "      <th>Fuel_Type</th>\n",
       "      <th>Power</th>\n",
       "      <th>Transmission</th>\n",
       "      <th>Mileage</th>\n",
       "      <th>Engine</th>\n",
       "      <th>Seats</th>\n",
       "    </tr>\n",
       "  </thead>\n",
       "  <tbody>\n",
       "    <tr>\n",
       "      <th>75</th>\n",
       "      <td>Diesel</td>\n",
       "      <td>187.74</td>\n",
       "      <td>Automatic</td>\n",
       "      <td>18.5</td>\n",
       "      <td>1968</td>\n",
       "      <td>5.0</td>\n",
       "    </tr>\n",
       "    <tr>\n",
       "      <th>76</th>\n",
       "      <td>Diesel</td>\n",
       "      <td>null</td>\n",
       "      <td>Manual</td>\n",
       "      <td>17.8</td>\n",
       "      <td>1399</td>\n",
       "      <td>5.0</td>\n",
       "    </tr>\n",
       "    <tr>\n",
       "      <th>77</th>\n",
       "      <td>Petrol</td>\n",
       "      <td>132</td>\n",
       "      <td>Manual</td>\n",
       "      <td>12.4</td>\n",
       "      <td>1998</td>\n",
       "      <td>8.0</td>\n",
       "    </tr>\n",
       "    <tr>\n",
       "      <th>78</th>\n",
       "      <td>Diesel</td>\n",
       "      <td>102</td>\n",
       "      <td>Manual</td>\n",
       "      <td>12.8</td>\n",
       "      <td>2494</td>\n",
       "      <td>7.0</td>\n",
       "    </tr>\n",
       "  </tbody>\n",
       "</table>\n",
       "</div>"
      ],
      "text/plain": [
       "   Fuel_Type    Power Transmission Mileage Engine  Seats\n",
       "75    Diesel  187.74     Automatic    18.5  1968     5.0\n",
       "76    Diesel    null        Manual    17.8  1399     5.0\n",
       "77    Petrol     132        Manual    12.4  1998     8.0\n",
       "78    Diesel     102        Manual    12.8  2494     7.0"
      ]
     },
     "execution_count": 139,
     "metadata": {},
     "output_type": "execute_result"
    }
   ],
   "source": [
    "setnull[75:79]"
   ]
  },
  {
   "cell_type": "code",
   "execution_count": 140,
   "metadata": {},
   "outputs": [],
   "source": [
    "setnull[\"Power\"]=setnull[\"Power\"].replace(\"null \",np.NaN)"
   ]
  },
  {
   "cell_type": "code",
   "execution_count": 141,
   "metadata": {},
   "outputs": [],
   "source": [
    "from sklearn.preprocessing import LabelEncoder"
   ]
  },
  {
   "cell_type": "code",
   "execution_count": 142,
   "metadata": {},
   "outputs": [],
   "source": [
    "le1=LabelEncoder()\n",
    "le2=LabelEncoder()"
   ]
  },
  {
   "cell_type": "code",
   "execution_count": 143,
   "metadata": {},
   "outputs": [],
   "source": [
    "setnull[\"Fuel_Type\"]=le1.fit_transform(setnull[\"Fuel_Type\"])\n",
    "setnull[\"Transmission\"]=le2.fit_transform(setnull[\"Transmission\"])"
   ]
  },
  {
   "cell_type": "code",
   "execution_count": 144,
   "metadata": {},
   "outputs": [],
   "source": [
    "#!pip install fancyimpute\n",
    "setnull[\"Mileage\"]=setnull[\"Mileage\"].astype(\"float\")\n",
    "setnull[\"Engine\"]=setnull[\"Engine\"].astype(\"float\")\n",
    "setnull[\"Power\"]=setnull[\"Power\"].astype(\"float\")"
   ]
  },
  {
   "cell_type": "code",
   "execution_count": 145,
   "metadata": {},
   "outputs": [
    {
     "name": "stdout",
     "output_type": "stream",
     "text": [
      "Imputing row 1/7253 with 0 missing, elapsed time: 8.382\n",
      "Imputing row 101/7253 with 0 missing, elapsed time: 8.383\n",
      "Imputing row 201/7253 with 0 missing, elapsed time: 8.384\n",
      "Imputing row 301/7253 with 0 missing, elapsed time: 8.385\n",
      "Imputing row 401/7253 with 0 missing, elapsed time: 8.386\n",
      "Imputing row 501/7253 with 0 missing, elapsed time: 8.387\n",
      "Imputing row 601/7253 with 0 missing, elapsed time: 8.387\n",
      "Imputing row 701/7253 with 0 missing, elapsed time: 8.388\n",
      "Imputing row 801/7253 with 0 missing, elapsed time: 8.389\n",
      "Imputing row 901/7253 with 0 missing, elapsed time: 8.390\n",
      "Imputing row 1001/7253 with 0 missing, elapsed time: 8.390\n",
      "Imputing row 1101/7253 with 0 missing, elapsed time: 8.391\n",
      "Imputing row 1201/7253 with 0 missing, elapsed time: 8.392\n",
      "Imputing row 1301/7253 with 0 missing, elapsed time: 8.393\n",
      "Imputing row 1401/7253 with 0 missing, elapsed time: 8.393\n",
      "Imputing row 1501/7253 with 0 missing, elapsed time: 8.394\n",
      "Imputing row 1601/7253 with 0 missing, elapsed time: 8.395\n",
      "Imputing row 1701/7253 with 0 missing, elapsed time: 8.396\n",
      "Imputing row 1801/7253 with 0 missing, elapsed time: 8.396\n",
      "Imputing row 1901/7253 with 0 missing, elapsed time: 8.397\n",
      "Imputing row 2001/7253 with 0 missing, elapsed time: 8.397\n",
      "Imputing row 2101/7253 with 0 missing, elapsed time: 8.398\n",
      "Imputing row 2201/7253 with 0 missing, elapsed time: 8.399\n",
      "Imputing row 2301/7253 with 0 missing, elapsed time: 8.400\n",
      "Imputing row 2401/7253 with 0 missing, elapsed time: 8.401\n",
      "Imputing row 2501/7253 with 0 missing, elapsed time: 8.402\n",
      "Imputing row 2601/7253 with 0 missing, elapsed time: 8.403\n",
      "Imputing row 2701/7253 with 0 missing, elapsed time: 8.404\n",
      "Imputing row 2801/7253 with 0 missing, elapsed time: 8.405\n",
      "Imputing row 2901/7253 with 0 missing, elapsed time: 8.405\n",
      "Imputing row 3001/7253 with 0 missing, elapsed time: 8.406\n",
      "Imputing row 3101/7253 with 0 missing, elapsed time: 8.407\n",
      "Imputing row 3201/7253 with 0 missing, elapsed time: 8.407\n",
      "Imputing row 3301/7253 with 0 missing, elapsed time: 8.408\n",
      "Imputing row 3401/7253 with 0 missing, elapsed time: 8.409\n",
      "Imputing row 3501/7253 with 0 missing, elapsed time: 8.409\n",
      "Imputing row 3601/7253 with 0 missing, elapsed time: 8.410\n",
      "Imputing row 3701/7253 with 0 missing, elapsed time: 8.411\n",
      "Imputing row 3801/7253 with 2 missing, elapsed time: 8.412\n",
      "Imputing row 3901/7253 with 0 missing, elapsed time: 8.413\n",
      "Imputing row 4001/7253 with 0 missing, elapsed time: 8.413\n",
      "Imputing row 4101/7253 with 0 missing, elapsed time: 8.414\n",
      "Imputing row 4201/7253 with 0 missing, elapsed time: 8.415\n",
      "Imputing row 4301/7253 with 0 missing, elapsed time: 8.416\n",
      "Imputing row 4401/7253 with 0 missing, elapsed time: 8.416\n",
      "Imputing row 4501/7253 with 0 missing, elapsed time: 8.417\n",
      "Imputing row 4601/7253 with 0 missing, elapsed time: 8.417\n",
      "Imputing row 4701/7253 with 0 missing, elapsed time: 8.418\n",
      "Imputing row 4801/7253 with 0 missing, elapsed time: 8.419\n",
      "Imputing row 4901/7253 with 1 missing, elapsed time: 8.419\n",
      "Imputing row 5001/7253 with 0 missing, elapsed time: 8.420\n",
      "Imputing row 5101/7253 with 0 missing, elapsed time: 8.421\n",
      "Imputing row 5201/7253 with 0 missing, elapsed time: 8.421\n",
      "Imputing row 5301/7253 with 0 missing, elapsed time: 8.423\n",
      "Imputing row 5401/7253 with 0 missing, elapsed time: 8.423\n",
      "Imputing row 5501/7253 with 0 missing, elapsed time: 8.423\n",
      "Imputing row 5601/7253 with 0 missing, elapsed time: 8.424\n",
      "Imputing row 5701/7253 with 0 missing, elapsed time: 8.425\n",
      "Imputing row 5801/7253 with 0 missing, elapsed time: 8.425\n",
      "Imputing row 5901/7253 with 0 missing, elapsed time: 8.426\n",
      "Imputing row 6001/7253 with 0 missing, elapsed time: 8.427\n",
      "Imputing row 6101/7253 with 0 missing, elapsed time: 8.427\n",
      "Imputing row 6201/7253 with 0 missing, elapsed time: 8.428\n",
      "Imputing row 6301/7253 with 0 missing, elapsed time: 8.429\n",
      "Imputing row 6401/7253 with 0 missing, elapsed time: 8.429\n",
      "Imputing row 6501/7253 with 0 missing, elapsed time: 8.430\n",
      "Imputing row 6601/7253 with 0 missing, elapsed time: 8.431\n",
      "Imputing row 6701/7253 with 0 missing, elapsed time: 8.432\n",
      "Imputing row 6801/7253 with 0 missing, elapsed time: 8.433\n",
      "Imputing row 6901/7253 with 0 missing, elapsed time: 8.434\n",
      "Imputing row 7001/7253 with 0 missing, elapsed time: 8.434\n",
      "Imputing row 7101/7253 with 0 missing, elapsed time: 8.435\n",
      "Imputing row 7201/7253 with 0 missing, elapsed time: 8.436\n"
     ]
    }
   ],
   "source": [
    "from fancyimpute import KNN\n",
    "X_filles= KNN(k=7).fit_transform(setnull)"
   ]
  },
  {
   "cell_type": "code",
   "execution_count": 146,
   "metadata": {},
   "outputs": [],
   "source": [
    "sett=pd.DataFrame(X_filles)"
   ]
  },
  {
   "cell_type": "code",
   "execution_count": 147,
   "metadata": {},
   "outputs": [],
   "source": [
    "sett.columns=setnull.columns"
   ]
  },
  {
   "cell_type": "code",
   "execution_count": 148,
   "metadata": {},
   "outputs": [
    {
     "data": {
      "text/plain": [
       "Fuel_Type       0\n",
       "Power           0\n",
       "Transmission    0\n",
       "Mileage         0\n",
       "Engine          0\n",
       "Seats           0\n",
       "dtype: int64"
      ]
     },
     "execution_count": 148,
     "metadata": {},
     "output_type": "execute_result"
    }
   ],
   "source": [
    "sett.isnull().sum()"
   ]
  },
  {
   "cell_type": "code",
   "execution_count": 149,
   "metadata": {},
   "outputs": [
    {
     "data": {
      "text/plain": [
       "(7253, 12)"
      ]
     },
     "execution_count": 149,
     "metadata": {},
     "output_type": "execute_result"
    }
   ],
   "source": [
    "data.shape"
   ]
  },
  {
   "cell_type": "code",
   "execution_count": 150,
   "metadata": {},
   "outputs": [
    {
     "data": {
      "text/plain": [
       "(7253, 12)"
      ]
     },
     "execution_count": 150,
     "metadata": {},
     "output_type": "execute_result"
    }
   ],
   "source": [
    "data.shape"
   ]
  },
  {
   "cell_type": "code",
   "execution_count": 151,
   "metadata": {},
   "outputs": [
    {
     "data": {
      "text/plain": [
       "(7253, 6)"
      ]
     },
     "execution_count": 151,
     "metadata": {},
     "output_type": "execute_result"
    }
   ],
   "source": [
    "sett.shape"
   ]
  },
  {
   "cell_type": "code",
   "execution_count": 152,
   "metadata": {},
   "outputs": [],
   "source": [
    "df=data.drop([\"Fuel_Type\",\"Power\",\"Transmission\",\"Mileage\",\"Engine\",\"Seats\"],1)"
   ]
  },
  {
   "cell_type": "code",
   "execution_count": 153,
   "metadata": {},
   "outputs": [
    {
     "data": {
      "text/html": [
       "<div>\n",
       "<style scoped>\n",
       "    .dataframe tbody tr th:only-of-type {\n",
       "        vertical-align: middle;\n",
       "    }\n",
       "\n",
       "    .dataframe tbody tr th {\n",
       "        vertical-align: top;\n",
       "    }\n",
       "\n",
       "    .dataframe thead th {\n",
       "        text-align: right;\n",
       "    }\n",
       "</style>\n",
       "<table border=\"1\" class=\"dataframe\">\n",
       "  <thead>\n",
       "    <tr style=\"text-align: right;\">\n",
       "      <th></th>\n",
       "      <th>Fuel_Type</th>\n",
       "      <th>Power</th>\n",
       "      <th>Transmission</th>\n",
       "      <th>Mileage</th>\n",
       "      <th>Engine</th>\n",
       "      <th>Seats</th>\n",
       "    </tr>\n",
       "  </thead>\n",
       "  <tbody>\n",
       "    <tr>\n",
       "      <th>0</th>\n",
       "      <td>0.0</td>\n",
       "      <td>58.16</td>\n",
       "      <td>1.0</td>\n",
       "      <td>26.6</td>\n",
       "      <td>998.0</td>\n",
       "      <td>5.0</td>\n",
       "    </tr>\n",
       "    <tr>\n",
       "      <th>1</th>\n",
       "      <td>1.0</td>\n",
       "      <td>126.20</td>\n",
       "      <td>1.0</td>\n",
       "      <td>19.6</td>\n",
       "      <td>1582.0</td>\n",
       "      <td>5.0</td>\n",
       "    </tr>\n",
       "    <tr>\n",
       "      <th>2</th>\n",
       "      <td>4.0</td>\n",
       "      <td>88.70</td>\n",
       "      <td>1.0</td>\n",
       "      <td>18.2</td>\n",
       "      <td>1199.0</td>\n",
       "      <td>5.0</td>\n",
       "    </tr>\n",
       "    <tr>\n",
       "      <th>3</th>\n",
       "      <td>1.0</td>\n",
       "      <td>88.76</td>\n",
       "      <td>1.0</td>\n",
       "      <td>20.7</td>\n",
       "      <td>1248.0</td>\n",
       "      <td>7.0</td>\n",
       "    </tr>\n",
       "    <tr>\n",
       "      <th>4</th>\n",
       "      <td>1.0</td>\n",
       "      <td>140.80</td>\n",
       "      <td>0.0</td>\n",
       "      <td>15.2</td>\n",
       "      <td>1968.0</td>\n",
       "      <td>5.0</td>\n",
       "    </tr>\n",
       "  </tbody>\n",
       "</table>\n",
       "</div>"
      ],
      "text/plain": [
       "   Fuel_Type   Power  Transmission  Mileage  Engine  Seats\n",
       "0        0.0   58.16           1.0     26.6   998.0    5.0\n",
       "1        1.0  126.20           1.0     19.6  1582.0    5.0\n",
       "2        4.0   88.70           1.0     18.2  1199.0    5.0\n",
       "3        1.0   88.76           1.0     20.7  1248.0    7.0\n",
       "4        1.0  140.80           0.0     15.2  1968.0    5.0"
      ]
     },
     "execution_count": 153,
     "metadata": {},
     "output_type": "execute_result"
    }
   ],
   "source": [
    "sett.head()"
   ]
  },
  {
   "cell_type": "code",
   "execution_count": 154,
   "metadata": {},
   "outputs": [
    {
     "data": {
      "text/html": [
       "<div>\n",
       "<style scoped>\n",
       "    .dataframe tbody tr th:only-of-type {\n",
       "        vertical-align: middle;\n",
       "    }\n",
       "\n",
       "    .dataframe tbody tr th {\n",
       "        vertical-align: top;\n",
       "    }\n",
       "\n",
       "    .dataframe thead th {\n",
       "        text-align: right;\n",
       "    }\n",
       "</style>\n",
       "<table border=\"1\" class=\"dataframe\">\n",
       "  <thead>\n",
       "    <tr style=\"text-align: right;\">\n",
       "      <th></th>\n",
       "      <th>Fuel_Type</th>\n",
       "      <th>Power</th>\n",
       "      <th>Transmission</th>\n",
       "      <th>Mileage</th>\n",
       "      <th>Engine</th>\n",
       "      <th>Seats</th>\n",
       "    </tr>\n",
       "  </thead>\n",
       "  <tbody>\n",
       "    <tr>\n",
       "      <th>7248</th>\n",
       "      <td>1.0</td>\n",
       "      <td>103.6</td>\n",
       "      <td>1.0</td>\n",
       "      <td>20.5</td>\n",
       "      <td>1598.0</td>\n",
       "      <td>5.0</td>\n",
       "    </tr>\n",
       "    <tr>\n",
       "      <th>7249</th>\n",
       "      <td>4.0</td>\n",
       "      <td>103.6</td>\n",
       "      <td>0.0</td>\n",
       "      <td>17.2</td>\n",
       "      <td>1197.0</td>\n",
       "      <td>5.0</td>\n",
       "    </tr>\n",
       "    <tr>\n",
       "      <th>7250</th>\n",
       "      <td>1.0</td>\n",
       "      <td>63.1</td>\n",
       "      <td>1.0</td>\n",
       "      <td>23.0</td>\n",
       "      <td>1461.0</td>\n",
       "      <td>5.0</td>\n",
       "    </tr>\n",
       "    <tr>\n",
       "      <th>7251</th>\n",
       "      <td>4.0</td>\n",
       "      <td>103.6</td>\n",
       "      <td>0.0</td>\n",
       "      <td>17.2</td>\n",
       "      <td>1197.0</td>\n",
       "      <td>5.0</td>\n",
       "    </tr>\n",
       "    <tr>\n",
       "      <th>7252</th>\n",
       "      <td>1.0</td>\n",
       "      <td>170.0</td>\n",
       "      <td>0.0</td>\n",
       "      <td>10.0</td>\n",
       "      <td>2148.0</td>\n",
       "      <td>5.0</td>\n",
       "    </tr>\n",
       "  </tbody>\n",
       "</table>\n",
       "</div>"
      ],
      "text/plain": [
       "      Fuel_Type  Power  Transmission  Mileage  Engine  Seats\n",
       "7248        1.0  103.6           1.0     20.5  1598.0    5.0\n",
       "7249        4.0  103.6           0.0     17.2  1197.0    5.0\n",
       "7250        1.0   63.1           1.0     23.0  1461.0    5.0\n",
       "7251        4.0  103.6           0.0     17.2  1197.0    5.0\n",
       "7252        1.0  170.0           0.0     10.0  2148.0    5.0"
      ]
     },
     "execution_count": 154,
     "metadata": {},
     "output_type": "execute_result"
    }
   ],
   "source": [
    "sett.tail()"
   ]
  },
  {
   "cell_type": "code",
   "execution_count": 155,
   "metadata": {},
   "outputs": [],
   "source": [
    "df=df.reset_index().drop(labels=\"index\",axis=1)"
   ]
  },
  {
   "cell_type": "code",
   "execution_count": null,
   "metadata": {},
   "outputs": [],
   "source": []
  },
  {
   "cell_type": "code",
   "execution_count": 156,
   "metadata": {},
   "outputs": [],
   "source": [
    "df1=pd.concat([df,sett],axis=1)"
   ]
  },
  {
   "cell_type": "code",
   "execution_count": 157,
   "metadata": {},
   "outputs": [
    {
     "data": {
      "text/html": [
       "<div>\n",
       "<style scoped>\n",
       "    .dataframe tbody tr th:only-of-type {\n",
       "        vertical-align: middle;\n",
       "    }\n",
       "\n",
       "    .dataframe tbody tr th {\n",
       "        vertical-align: top;\n",
       "    }\n",
       "\n",
       "    .dataframe thead th {\n",
       "        text-align: right;\n",
       "    }\n",
       "</style>\n",
       "<table border=\"1\" class=\"dataframe\">\n",
       "  <thead>\n",
       "    <tr style=\"text-align: right;\">\n",
       "      <th></th>\n",
       "      <th>Name</th>\n",
       "      <th>Location</th>\n",
       "      <th>Year</th>\n",
       "      <th>Kilometers_Driven</th>\n",
       "      <th>Owner_Type</th>\n",
       "      <th>how_old</th>\n",
       "      <th>Fuel_Type</th>\n",
       "      <th>Power</th>\n",
       "      <th>Transmission</th>\n",
       "      <th>Mileage</th>\n",
       "      <th>Engine</th>\n",
       "      <th>Seats</th>\n",
       "    </tr>\n",
       "  </thead>\n",
       "  <tbody>\n",
       "    <tr>\n",
       "      <th>0</th>\n",
       "      <td>MarutiWagon</td>\n",
       "      <td>Mumbai</td>\n",
       "      <td>2010</td>\n",
       "      <td>72000</td>\n",
       "      <td>First</td>\n",
       "      <td>9</td>\n",
       "      <td>0.0</td>\n",
       "      <td>58.16</td>\n",
       "      <td>1.0</td>\n",
       "      <td>26.6</td>\n",
       "      <td>998.0</td>\n",
       "      <td>5.0</td>\n",
       "    </tr>\n",
       "    <tr>\n",
       "      <th>1</th>\n",
       "      <td>HyundaiCreta</td>\n",
       "      <td>Pune</td>\n",
       "      <td>2015</td>\n",
       "      <td>41000</td>\n",
       "      <td>First</td>\n",
       "      <td>4</td>\n",
       "      <td>1.0</td>\n",
       "      <td>126.20</td>\n",
       "      <td>1.0</td>\n",
       "      <td>19.6</td>\n",
       "      <td>1582.0</td>\n",
       "      <td>5.0</td>\n",
       "    </tr>\n",
       "    <tr>\n",
       "      <th>2</th>\n",
       "      <td>HondaJazz</td>\n",
       "      <td>Chennai</td>\n",
       "      <td>2011</td>\n",
       "      <td>46000</td>\n",
       "      <td>First</td>\n",
       "      <td>8</td>\n",
       "      <td>4.0</td>\n",
       "      <td>88.70</td>\n",
       "      <td>1.0</td>\n",
       "      <td>18.2</td>\n",
       "      <td>1199.0</td>\n",
       "      <td>5.0</td>\n",
       "    </tr>\n",
       "    <tr>\n",
       "      <th>3</th>\n",
       "      <td>MarutiErtiga</td>\n",
       "      <td>Chennai</td>\n",
       "      <td>2012</td>\n",
       "      <td>87000</td>\n",
       "      <td>First</td>\n",
       "      <td>7</td>\n",
       "      <td>1.0</td>\n",
       "      <td>88.76</td>\n",
       "      <td>1.0</td>\n",
       "      <td>20.7</td>\n",
       "      <td>1248.0</td>\n",
       "      <td>7.0</td>\n",
       "    </tr>\n",
       "    <tr>\n",
       "      <th>4</th>\n",
       "      <td>AudiA4</td>\n",
       "      <td>Coimbatore</td>\n",
       "      <td>2013</td>\n",
       "      <td>40670</td>\n",
       "      <td>Second</td>\n",
       "      <td>6</td>\n",
       "      <td>1.0</td>\n",
       "      <td>140.80</td>\n",
       "      <td>0.0</td>\n",
       "      <td>15.2</td>\n",
       "      <td>1968.0</td>\n",
       "      <td>5.0</td>\n",
       "    </tr>\n",
       "  </tbody>\n",
       "</table>\n",
       "</div>"
      ],
      "text/plain": [
       "           Name    Location  Year  Kilometers_Driven Owner_Type  how_old  \\\n",
       "0   MarutiWagon      Mumbai  2010              72000      First        9   \n",
       "1  HyundaiCreta        Pune  2015              41000      First        4   \n",
       "2     HondaJazz     Chennai  2011              46000      First        8   \n",
       "3  MarutiErtiga     Chennai  2012              87000      First        7   \n",
       "4        AudiA4  Coimbatore  2013              40670     Second        6   \n",
       "\n",
       "   Fuel_Type   Power  Transmission  Mileage  Engine  Seats  \n",
       "0        0.0   58.16           1.0     26.6   998.0    5.0  \n",
       "1        1.0  126.20           1.0     19.6  1582.0    5.0  \n",
       "2        4.0   88.70           1.0     18.2  1199.0    5.0  \n",
       "3        1.0   88.76           1.0     20.7  1248.0    7.0  \n",
       "4        1.0  140.80           0.0     15.2  1968.0    5.0  "
      ]
     },
     "execution_count": 157,
     "metadata": {},
     "output_type": "execute_result"
    }
   ],
   "source": [
    "df1.head()"
   ]
  },
  {
   "cell_type": "code",
   "execution_count": null,
   "metadata": {},
   "outputs": [],
   "source": []
  },
  {
   "cell_type": "code",
   "execution_count": 158,
   "metadata": {},
   "outputs": [],
   "source": [
    "df1[\"Fuel_Type\"]=df1[\"Fuel_Type\"].astype(\"int\")"
   ]
  },
  {
   "cell_type": "code",
   "execution_count": 159,
   "metadata": {},
   "outputs": [],
   "source": [
    "df1[\"Fuel_Type\"]=le1.inverse_transform(df1[\"Fuel_Type\"])"
   ]
  },
  {
   "cell_type": "code",
   "execution_count": 160,
   "metadata": {},
   "outputs": [],
   "source": [
    "df1[\"Transmission\"]=df1[\"Transmission\"].astype(\"int\")"
   ]
  },
  {
   "cell_type": "code",
   "execution_count": 161,
   "metadata": {},
   "outputs": [],
   "source": [
    "df1[\"Transmission\"]=le2.inverse_transform(df1[\"Transmission\"])"
   ]
  },
  {
   "cell_type": "code",
   "execution_count": 162,
   "metadata": {},
   "outputs": [
    {
     "data": {
      "text/plain": [
       "Name                 0\n",
       "Location             0\n",
       "Year                 0\n",
       "Kilometers_Driven    0\n",
       "Owner_Type           0\n",
       "how_old              0\n",
       "Fuel_Type            0\n",
       "Power                0\n",
       "Transmission         0\n",
       "Mileage              0\n",
       "Engine               0\n",
       "Seats                0\n",
       "dtype: int64"
      ]
     },
     "execution_count": 162,
     "metadata": {},
     "output_type": "execute_result"
    }
   ],
   "source": [
    "df1.isnull().sum()"
   ]
  },
  {
   "cell_type": "code",
   "execution_count": 163,
   "metadata": {},
   "outputs": [
    {
     "data": {
      "text/html": [
       "<div>\n",
       "<style scoped>\n",
       "    .dataframe tbody tr th:only-of-type {\n",
       "        vertical-align: middle;\n",
       "    }\n",
       "\n",
       "    .dataframe tbody tr th {\n",
       "        vertical-align: top;\n",
       "    }\n",
       "\n",
       "    .dataframe thead th {\n",
       "        text-align: right;\n",
       "    }\n",
       "</style>\n",
       "<table border=\"1\" class=\"dataframe\">\n",
       "  <thead>\n",
       "    <tr style=\"text-align: right;\">\n",
       "      <th></th>\n",
       "      <th>Name</th>\n",
       "      <th>Location</th>\n",
       "      <th>Year</th>\n",
       "      <th>Kilometers_Driven</th>\n",
       "      <th>Owner_Type</th>\n",
       "      <th>how_old</th>\n",
       "      <th>Fuel_Type</th>\n",
       "      <th>Power</th>\n",
       "      <th>Transmission</th>\n",
       "      <th>Mileage</th>\n",
       "      <th>Engine</th>\n",
       "      <th>Seats</th>\n",
       "    </tr>\n",
       "  </thead>\n",
       "  <tbody>\n",
       "    <tr>\n",
       "      <th>0</th>\n",
       "      <td>MarutiWagon</td>\n",
       "      <td>Mumbai</td>\n",
       "      <td>2010</td>\n",
       "      <td>72000</td>\n",
       "      <td>First</td>\n",
       "      <td>9</td>\n",
       "      <td>CNG</td>\n",
       "      <td>58.16</td>\n",
       "      <td>Manual</td>\n",
       "      <td>26.6</td>\n",
       "      <td>998.0</td>\n",
       "      <td>5.0</td>\n",
       "    </tr>\n",
       "    <tr>\n",
       "      <th>1</th>\n",
       "      <td>HyundaiCreta</td>\n",
       "      <td>Pune</td>\n",
       "      <td>2015</td>\n",
       "      <td>41000</td>\n",
       "      <td>First</td>\n",
       "      <td>4</td>\n",
       "      <td>Diesel</td>\n",
       "      <td>126.20</td>\n",
       "      <td>Manual</td>\n",
       "      <td>19.6</td>\n",
       "      <td>1582.0</td>\n",
       "      <td>5.0</td>\n",
       "    </tr>\n",
       "    <tr>\n",
       "      <th>2</th>\n",
       "      <td>HondaJazz</td>\n",
       "      <td>Chennai</td>\n",
       "      <td>2011</td>\n",
       "      <td>46000</td>\n",
       "      <td>First</td>\n",
       "      <td>8</td>\n",
       "      <td>Petrol</td>\n",
       "      <td>88.70</td>\n",
       "      <td>Manual</td>\n",
       "      <td>18.2</td>\n",
       "      <td>1199.0</td>\n",
       "      <td>5.0</td>\n",
       "    </tr>\n",
       "    <tr>\n",
       "      <th>3</th>\n",
       "      <td>MarutiErtiga</td>\n",
       "      <td>Chennai</td>\n",
       "      <td>2012</td>\n",
       "      <td>87000</td>\n",
       "      <td>First</td>\n",
       "      <td>7</td>\n",
       "      <td>Diesel</td>\n",
       "      <td>88.76</td>\n",
       "      <td>Manual</td>\n",
       "      <td>20.7</td>\n",
       "      <td>1248.0</td>\n",
       "      <td>7.0</td>\n",
       "    </tr>\n",
       "    <tr>\n",
       "      <th>4</th>\n",
       "      <td>AudiA4</td>\n",
       "      <td>Coimbatore</td>\n",
       "      <td>2013</td>\n",
       "      <td>40670</td>\n",
       "      <td>Second</td>\n",
       "      <td>6</td>\n",
       "      <td>Diesel</td>\n",
       "      <td>140.80</td>\n",
       "      <td>Automatic</td>\n",
       "      <td>15.2</td>\n",
       "      <td>1968.0</td>\n",
       "      <td>5.0</td>\n",
       "    </tr>\n",
       "  </tbody>\n",
       "</table>\n",
       "</div>"
      ],
      "text/plain": [
       "           Name    Location  Year  Kilometers_Driven Owner_Type  how_old  \\\n",
       "0   MarutiWagon      Mumbai  2010              72000      First        9   \n",
       "1  HyundaiCreta        Pune  2015              41000      First        4   \n",
       "2     HondaJazz     Chennai  2011              46000      First        8   \n",
       "3  MarutiErtiga     Chennai  2012              87000      First        7   \n",
       "4        AudiA4  Coimbatore  2013              40670     Second        6   \n",
       "\n",
       "  Fuel_Type   Power Transmission  Mileage  Engine  Seats  \n",
       "0       CNG   58.16       Manual     26.6   998.0    5.0  \n",
       "1    Diesel  126.20       Manual     19.6  1582.0    5.0  \n",
       "2    Petrol   88.70       Manual     18.2  1199.0    5.0  \n",
       "3    Diesel   88.76       Manual     20.7  1248.0    7.0  \n",
       "4    Diesel  140.80    Automatic     15.2  1968.0    5.0  "
      ]
     },
     "execution_count": 163,
     "metadata": {},
     "output_type": "execute_result"
    }
   ],
   "source": [
    "df1.head()"
   ]
  },
  {
   "cell_type": "code",
   "execution_count": 164,
   "metadata": {
    "scrolled": true
   },
   "outputs": [
    {
     "data": {
      "text/plain": [
       "MarutiSwift     418\n",
       "HondaCity       318\n",
       "Hyundaii20      303\n",
       "ToyotaInnova    203\n",
       "HyundaiVerna    200\n",
       "Name: Name, dtype: int64"
      ]
     },
     "execution_count": 164,
     "metadata": {},
     "output_type": "execute_result"
    }
   ],
   "source": [
    "df1[\"Name\"].value_counts().head()"
   ]
  },
  {
   "cell_type": "code",
   "execution_count": 165,
   "metadata": {},
   "outputs": [],
   "source": [
    "Namee=pd.get_dummies(df1[\"Name\"],prefix=\"Name\")\n",
    "owner_type=pd.get_dummies(df1[\"Owner_Type\"],prefix=\"Owner\")\n",
    "how_old=pd.get_dummies(df1[\"how_old\"],prefix=\"old\")\n",
    "fuel_type=pd.get_dummies(df1[\"Fuel_Type\"],prefix=\"fuel\")\n",
    "transm=pd.get_dummies(df1[\"Transmission\"],prefix=\"Trans\")"
   ]
  },
  {
   "cell_type": "code",
   "execution_count": 166,
   "metadata": {},
   "outputs": [
    {
     "data": {
      "text/plain": [
       "((7253, 223), (7253, 12))"
      ]
     },
     "execution_count": 166,
     "metadata": {},
     "output_type": "execute_result"
    }
   ],
   "source": [
    "Namee.shape , df1.shape"
   ]
  },
  {
   "cell_type": "code",
   "execution_count": 167,
   "metadata": {},
   "outputs": [],
   "source": [
    "df1=pd.concat([Namee,owner_type,how_old,fuel_type,transm,df1],axis=1)"
   ]
  },
  {
   "cell_type": "code",
   "execution_count": 168,
   "metadata": {},
   "outputs": [],
   "source": [
    "df1.drop([\"Name\",\"Owner_Type\",\"how_old\",\"Fuel_Type\",\"Transmission\"],axis=1,inplace=True)"
   ]
  },
  {
   "cell_type": "code",
   "execution_count": 169,
   "metadata": {},
   "outputs": [],
   "source": [
    "df1.drop([\"Location\",\"Year\"],axis=1,inplace=True)"
   ]
  },
  {
   "cell_type": "code",
   "execution_count": 98,
   "metadata": {},
   "outputs": [
    {
     "data": {
      "text/html": [
       "<div>\n",
       "<style scoped>\n",
       "    .dataframe tbody tr th:only-of-type {\n",
       "        vertical-align: middle;\n",
       "    }\n",
       "\n",
       "    .dataframe tbody tr th {\n",
       "        vertical-align: top;\n",
       "    }\n",
       "\n",
       "    .dataframe thead th {\n",
       "        text-align: right;\n",
       "    }\n",
       "</style>\n",
       "<table border=\"1\" class=\"dataframe\">\n",
       "  <thead>\n",
       "    <tr style=\"text-align: right;\">\n",
       "      <th></th>\n",
       "      <th>Name_AmbassadorClassic</th>\n",
       "      <th>Name_AudiA3</th>\n",
       "      <th>Name_AudiA4</th>\n",
       "      <th>Name_AudiA6</th>\n",
       "      <th>Name_AudiA7</th>\n",
       "      <th>Name_AudiA8</th>\n",
       "      <th>Name_AudiQ3</th>\n",
       "      <th>Name_AudiQ5</th>\n",
       "      <th>Name_AudiQ7</th>\n",
       "      <th>Name_AudiRS5</th>\n",
       "      <th>...</th>\n",
       "      <th>fuel_2</th>\n",
       "      <th>fuel_3</th>\n",
       "      <th>fuel_4</th>\n",
       "      <th>Trans_0</th>\n",
       "      <th>Trans_1</th>\n",
       "      <th>Kilometers_Driven</th>\n",
       "      <th>Power</th>\n",
       "      <th>Mileage</th>\n",
       "      <th>Engine</th>\n",
       "      <th>Seats</th>\n",
       "    </tr>\n",
       "  </thead>\n",
       "  <tbody>\n",
       "    <tr>\n",
       "      <th>0</th>\n",
       "      <td>0</td>\n",
       "      <td>0</td>\n",
       "      <td>0</td>\n",
       "      <td>0</td>\n",
       "      <td>0</td>\n",
       "      <td>0</td>\n",
       "      <td>0</td>\n",
       "      <td>0</td>\n",
       "      <td>0</td>\n",
       "      <td>0</td>\n",
       "      <td>...</td>\n",
       "      <td>0</td>\n",
       "      <td>0</td>\n",
       "      <td>0</td>\n",
       "      <td>0</td>\n",
       "      <td>1</td>\n",
       "      <td>72000</td>\n",
       "      <td>58.16</td>\n",
       "      <td>26.6</td>\n",
       "      <td>998.0</td>\n",
       "      <td>5.0</td>\n",
       "    </tr>\n",
       "    <tr>\n",
       "      <th>1</th>\n",
       "      <td>0</td>\n",
       "      <td>0</td>\n",
       "      <td>0</td>\n",
       "      <td>0</td>\n",
       "      <td>0</td>\n",
       "      <td>0</td>\n",
       "      <td>0</td>\n",
       "      <td>0</td>\n",
       "      <td>0</td>\n",
       "      <td>0</td>\n",
       "      <td>...</td>\n",
       "      <td>0</td>\n",
       "      <td>0</td>\n",
       "      <td>0</td>\n",
       "      <td>0</td>\n",
       "      <td>1</td>\n",
       "      <td>41000</td>\n",
       "      <td>126.20</td>\n",
       "      <td>19.6</td>\n",
       "      <td>1582.0</td>\n",
       "      <td>5.0</td>\n",
       "    </tr>\n",
       "    <tr>\n",
       "      <th>2</th>\n",
       "      <td>0</td>\n",
       "      <td>0</td>\n",
       "      <td>0</td>\n",
       "      <td>0</td>\n",
       "      <td>0</td>\n",
       "      <td>0</td>\n",
       "      <td>0</td>\n",
       "      <td>0</td>\n",
       "      <td>0</td>\n",
       "      <td>0</td>\n",
       "      <td>...</td>\n",
       "      <td>0</td>\n",
       "      <td>0</td>\n",
       "      <td>1</td>\n",
       "      <td>0</td>\n",
       "      <td>1</td>\n",
       "      <td>46000</td>\n",
       "      <td>88.70</td>\n",
       "      <td>18.2</td>\n",
       "      <td>1199.0</td>\n",
       "      <td>5.0</td>\n",
       "    </tr>\n",
       "    <tr>\n",
       "      <th>3</th>\n",
       "      <td>0</td>\n",
       "      <td>0</td>\n",
       "      <td>0</td>\n",
       "      <td>0</td>\n",
       "      <td>0</td>\n",
       "      <td>0</td>\n",
       "      <td>0</td>\n",
       "      <td>0</td>\n",
       "      <td>0</td>\n",
       "      <td>0</td>\n",
       "      <td>...</td>\n",
       "      <td>0</td>\n",
       "      <td>0</td>\n",
       "      <td>0</td>\n",
       "      <td>0</td>\n",
       "      <td>1</td>\n",
       "      <td>87000</td>\n",
       "      <td>88.76</td>\n",
       "      <td>20.7</td>\n",
       "      <td>1248.0</td>\n",
       "      <td>7.0</td>\n",
       "    </tr>\n",
       "    <tr>\n",
       "      <th>4</th>\n",
       "      <td>0</td>\n",
       "      <td>0</td>\n",
       "      <td>1</td>\n",
       "      <td>0</td>\n",
       "      <td>0</td>\n",
       "      <td>0</td>\n",
       "      <td>0</td>\n",
       "      <td>0</td>\n",
       "      <td>0</td>\n",
       "      <td>0</td>\n",
       "      <td>...</td>\n",
       "      <td>0</td>\n",
       "      <td>0</td>\n",
       "      <td>0</td>\n",
       "      <td>1</td>\n",
       "      <td>0</td>\n",
       "      <td>40670</td>\n",
       "      <td>140.80</td>\n",
       "      <td>15.2</td>\n",
       "      <td>1968.0</td>\n",
       "      <td>5.0</td>\n",
       "    </tr>\n",
       "  </tbody>\n",
       "</table>\n",
       "<p>5 rows × 262 columns</p>\n",
       "</div>"
      ],
      "text/plain": [
       "   Name_AmbassadorClassic  Name_AudiA3  Name_AudiA4  Name_AudiA6  Name_AudiA7  \\\n",
       "0                       0            0            0            0            0   \n",
       "1                       0            0            0            0            0   \n",
       "2                       0            0            0            0            0   \n",
       "3                       0            0            0            0            0   \n",
       "4                       0            0            1            0            0   \n",
       "\n",
       "   Name_AudiA8  Name_AudiQ3  Name_AudiQ5  Name_AudiQ7  Name_AudiRS5  ...  \\\n",
       "0            0            0            0            0             0  ...   \n",
       "1            0            0            0            0             0  ...   \n",
       "2            0            0            0            0             0  ...   \n",
       "3            0            0            0            0             0  ...   \n",
       "4            0            0            0            0             0  ...   \n",
       "\n",
       "   fuel_2  fuel_3  fuel_4  Trans_0  Trans_1  Kilometers_Driven   Power  \\\n",
       "0       0       0       0        0        1              72000   58.16   \n",
       "1       0       0       0        0        1              41000  126.20   \n",
       "2       0       0       1        0        1              46000   88.70   \n",
       "3       0       0       0        0        1              87000   88.76   \n",
       "4       0       0       0        1        0              40670  140.80   \n",
       "\n",
       "   Mileage  Engine  Seats  \n",
       "0     26.6   998.0    5.0  \n",
       "1     19.6  1582.0    5.0  \n",
       "2     18.2  1199.0    5.0  \n",
       "3     20.7  1248.0    7.0  \n",
       "4     15.2  1968.0    5.0  \n",
       "\n",
       "[5 rows x 262 columns]"
      ]
     },
     "execution_count": 98,
     "metadata": {},
     "output_type": "execute_result"
    }
   ],
   "source": [
    "df1.head()"
   ]
  },
  {
   "cell_type": "code",
   "execution_count": 170,
   "metadata": {},
   "outputs": [
    {
     "data": {
      "text/plain": [
       "(6019, 12)"
      ]
     },
     "execution_count": 170,
     "metadata": {},
     "output_type": "execute_result"
    }
   ],
   "source": [
    "d.shape"
   ]
  },
  {
   "cell_type": "code",
   "execution_count": 171,
   "metadata": {},
   "outputs": [],
   "source": [
    "df2=df1.iloc[0:6019,:]"
   ]
  },
  {
   "cell_type": "code",
   "execution_count": 172,
   "metadata": {},
   "outputs": [],
   "source": [
    "testy=df1.iloc[6019:,:]"
   ]
  },
  {
   "cell_type": "code",
   "execution_count": 173,
   "metadata": {},
   "outputs": [
    {
     "data": {
      "text/plain": [
       "(6019, 262)"
      ]
     },
     "execution_count": 173,
     "metadata": {},
     "output_type": "execute_result"
    }
   ],
   "source": [
    "df2.shape"
   ]
  },
  {
   "cell_type": "code",
   "execution_count": 174,
   "metadata": {},
   "outputs": [],
   "source": [
    "from scipy.stats import zscore"
   ]
  },
  {
   "cell_type": "code",
   "execution_count": 175,
   "metadata": {},
   "outputs": [],
   "source": [
    "X=df2.apply(zscore)"
   ]
  },
  {
   "cell_type": "code",
   "execution_count": 180,
   "metadata": {},
   "outputs": [],
   "source": [
    "y=d[\"Price\"]"
   ]
  },
  {
   "cell_type": "code",
   "execution_count": 187,
   "metadata": {},
   "outputs": [
    {
     "data": {
      "text/html": [
       "<div>\n",
       "<style scoped>\n",
       "    .dataframe tbody tr th:only-of-type {\n",
       "        vertical-align: middle;\n",
       "    }\n",
       "\n",
       "    .dataframe tbody tr th {\n",
       "        vertical-align: top;\n",
       "    }\n",
       "\n",
       "    .dataframe thead th {\n",
       "        text-align: right;\n",
       "    }\n",
       "</style>\n",
       "<table border=\"1\" class=\"dataframe\">\n",
       "  <thead>\n",
       "    <tr style=\"text-align: right;\">\n",
       "      <th></th>\n",
       "      <th>Name_AmbassadorClassic</th>\n",
       "      <th>Name_AudiA3</th>\n",
       "      <th>Name_AudiA4</th>\n",
       "      <th>Name_AudiA6</th>\n",
       "      <th>Name_AudiA7</th>\n",
       "      <th>Name_AudiA8</th>\n",
       "      <th>Name_AudiQ3</th>\n",
       "      <th>Name_AudiQ5</th>\n",
       "      <th>Name_AudiQ7</th>\n",
       "      <th>Name_AudiRS5</th>\n",
       "      <th>...</th>\n",
       "      <th>fuel_Electric</th>\n",
       "      <th>fuel_LPG</th>\n",
       "      <th>fuel_Petrol</th>\n",
       "      <th>Trans_Automatic</th>\n",
       "      <th>Trans_Manual</th>\n",
       "      <th>Kilometers_Driven</th>\n",
       "      <th>Power</th>\n",
       "      <th>Mileage</th>\n",
       "      <th>Engine</th>\n",
       "      <th>Seats</th>\n",
       "    </tr>\n",
       "  </thead>\n",
       "  <tbody>\n",
       "    <tr>\n",
       "      <th>0</th>\n",
       "      <td>-0.012891</td>\n",
       "      <td>-0.025788</td>\n",
       "      <td>-0.114582</td>\n",
       "      <td>-0.090596</td>\n",
       "      <td>-0.022331</td>\n",
       "      <td>-0.018232</td>\n",
       "      <td>-0.067127</td>\n",
       "      <td>-0.070776</td>\n",
       "      <td>-0.079709</td>\n",
       "      <td>-0.018232</td>\n",
       "      <td>...</td>\n",
       "      <td>-0.018232</td>\n",
       "      <td>-0.040794</td>\n",
       "      <td>-0.915962</td>\n",
       "      <td>-0.632529</td>\n",
       "      <td>0.632529</td>\n",
       "      <td>0.145315</td>\n",
       "      <td>-1.012536</td>\n",
       "      <td>1.853266</td>\n",
       "      <td>-1.035548</td>\n",
       "      <td>-0.343592</td>\n",
       "    </tr>\n",
       "    <tr>\n",
       "      <th>1</th>\n",
       "      <td>-0.012891</td>\n",
       "      <td>-0.025788</td>\n",
       "      <td>-0.114582</td>\n",
       "      <td>-0.090596</td>\n",
       "      <td>-0.022331</td>\n",
       "      <td>-0.018232</td>\n",
       "      <td>-0.067127</td>\n",
       "      <td>-0.070776</td>\n",
       "      <td>-0.079709</td>\n",
       "      <td>-0.018232</td>\n",
       "      <td>...</td>\n",
       "      <td>-0.018232</td>\n",
       "      <td>-0.040794</td>\n",
       "      <td>-0.915962</td>\n",
       "      <td>-0.632529</td>\n",
       "      <td>0.632529</td>\n",
       "      <td>-0.194369</td>\n",
       "      <td>0.252373</td>\n",
       "      <td>0.324897</td>\n",
       "      <td>-0.062996</td>\n",
       "      <td>-0.343592</td>\n",
       "    </tr>\n",
       "    <tr>\n",
       "      <th>2</th>\n",
       "      <td>-0.012891</td>\n",
       "      <td>-0.025788</td>\n",
       "      <td>-0.114582</td>\n",
       "      <td>-0.090596</td>\n",
       "      <td>-0.022331</td>\n",
       "      <td>-0.018232</td>\n",
       "      <td>-0.067127</td>\n",
       "      <td>-0.070776</td>\n",
       "      <td>-0.079709</td>\n",
       "      <td>-0.018232</td>\n",
       "      <td>...</td>\n",
       "      <td>-0.018232</td>\n",
       "      <td>-0.040794</td>\n",
       "      <td>1.091749</td>\n",
       "      <td>-0.632529</td>\n",
       "      <td>0.632529</td>\n",
       "      <td>-0.139581</td>\n",
       "      <td>-0.444777</td>\n",
       "      <td>0.019223</td>\n",
       "      <td>-0.700817</td>\n",
       "      <td>-0.343592</td>\n",
       "    </tr>\n",
       "    <tr>\n",
       "      <th>3</th>\n",
       "      <td>-0.012891</td>\n",
       "      <td>-0.025788</td>\n",
       "      <td>-0.114582</td>\n",
       "      <td>-0.090596</td>\n",
       "      <td>-0.022331</td>\n",
       "      <td>-0.018232</td>\n",
       "      <td>-0.067127</td>\n",
       "      <td>-0.070776</td>\n",
       "      <td>-0.079709</td>\n",
       "      <td>-0.018232</td>\n",
       "      <td>...</td>\n",
       "      <td>-0.018232</td>\n",
       "      <td>-0.040794</td>\n",
       "      <td>-0.915962</td>\n",
       "      <td>-0.632529</td>\n",
       "      <td>0.632529</td>\n",
       "      <td>0.309678</td>\n",
       "      <td>-0.443661</td>\n",
       "      <td>0.565069</td>\n",
       "      <td>-0.619216</td>\n",
       "      <td>2.133789</td>\n",
       "    </tr>\n",
       "    <tr>\n",
       "      <th>4</th>\n",
       "      <td>-0.012891</td>\n",
       "      <td>-0.025788</td>\n",
       "      <td>8.727352</td>\n",
       "      <td>-0.090596</td>\n",
       "      <td>-0.022331</td>\n",
       "      <td>-0.018232</td>\n",
       "      <td>-0.067127</td>\n",
       "      <td>-0.070776</td>\n",
       "      <td>-0.079709</td>\n",
       "      <td>-0.018232</td>\n",
       "      <td>...</td>\n",
       "      <td>-0.018232</td>\n",
       "      <td>-0.040794</td>\n",
       "      <td>-0.915962</td>\n",
       "      <td>1.580955</td>\n",
       "      <td>-1.580955</td>\n",
       "      <td>-0.197985</td>\n",
       "      <td>0.523797</td>\n",
       "      <td>-0.635792</td>\n",
       "      <td>0.579821</td>\n",
       "      <td>-0.343592</td>\n",
       "    </tr>\n",
       "  </tbody>\n",
       "</table>\n",
       "<p>5 rows × 262 columns</p>\n",
       "</div>"
      ],
      "text/plain": [
       "   Name_AmbassadorClassic  Name_AudiA3  Name_AudiA4  Name_AudiA6  Name_AudiA7  \\\n",
       "0               -0.012891    -0.025788    -0.114582    -0.090596    -0.022331   \n",
       "1               -0.012891    -0.025788    -0.114582    -0.090596    -0.022331   \n",
       "2               -0.012891    -0.025788    -0.114582    -0.090596    -0.022331   \n",
       "3               -0.012891    -0.025788    -0.114582    -0.090596    -0.022331   \n",
       "4               -0.012891    -0.025788     8.727352    -0.090596    -0.022331   \n",
       "\n",
       "   Name_AudiA8  Name_AudiQ3  Name_AudiQ5  Name_AudiQ7  Name_AudiRS5  ...  \\\n",
       "0    -0.018232    -0.067127    -0.070776    -0.079709     -0.018232  ...   \n",
       "1    -0.018232    -0.067127    -0.070776    -0.079709     -0.018232  ...   \n",
       "2    -0.018232    -0.067127    -0.070776    -0.079709     -0.018232  ...   \n",
       "3    -0.018232    -0.067127    -0.070776    -0.079709     -0.018232  ...   \n",
       "4    -0.018232    -0.067127    -0.070776    -0.079709     -0.018232  ...   \n",
       "\n",
       "   fuel_Electric  fuel_LPG  fuel_Petrol  Trans_Automatic  Trans_Manual  \\\n",
       "0      -0.018232 -0.040794    -0.915962        -0.632529      0.632529   \n",
       "1      -0.018232 -0.040794    -0.915962        -0.632529      0.632529   \n",
       "2      -0.018232 -0.040794     1.091749        -0.632529      0.632529   \n",
       "3      -0.018232 -0.040794    -0.915962        -0.632529      0.632529   \n",
       "4      -0.018232 -0.040794    -0.915962         1.580955     -1.580955   \n",
       "\n",
       "   Kilometers_Driven     Power   Mileage    Engine     Seats  \n",
       "0           0.145315 -1.012536  1.853266 -1.035548 -0.343592  \n",
       "1          -0.194369  0.252373  0.324897 -0.062996 -0.343592  \n",
       "2          -0.139581 -0.444777  0.019223 -0.700817 -0.343592  \n",
       "3           0.309678 -0.443661  0.565069 -0.619216  2.133789  \n",
       "4          -0.197985  0.523797 -0.635792  0.579821 -0.343592  \n",
       "\n",
       "[5 rows x 262 columns]"
      ]
     },
     "execution_count": 187,
     "metadata": {},
     "output_type": "execute_result"
    }
   ],
   "source": [
    "X.head()"
   ]
  },
  {
   "cell_type": "code",
   "execution_count": null,
   "metadata": {},
   "outputs": [],
   "source": []
  },
  {
   "cell_type": "code",
   "execution_count": 181,
   "metadata": {},
   "outputs": [],
   "source": [
    "from sklearn.model_selection import train_test_split"
   ]
  },
  {
   "cell_type": "code",
   "execution_count": 189,
   "metadata": {},
   "outputs": [],
   "source": [
    "X_train,X_test,y_train,y_test=train_test_split(df2,y,test_size=0.3,random_state=1)"
   ]
  },
  {
   "cell_type": "code",
   "execution_count": 190,
   "metadata": {},
   "outputs": [],
   "source": [
    "from sklearn.datasets import load_boston\n",
    "from sklearn.linear_model import LinearRegression\n",
    "from sklearn.linear_model import Ridge"
   ]
  },
  {
   "cell_type": "code",
   "execution_count": 191,
   "metadata": {},
   "outputs": [
    {
     "data": {
      "text/plain": [
       "LinearRegression(copy_X=True, fit_intercept=True, n_jobs=None, normalize=False)"
      ]
     },
     "execution_count": 191,
     "metadata": {},
     "output_type": "execute_result"
    }
   ],
   "source": [
    "lr = LinearRegression()\n",
    "lr.fit(X_train, y_train)"
   ]
  },
  {
   "cell_type": "code",
   "execution_count": 192,
   "metadata": {},
   "outputs": [
    {
     "data": {
      "text/plain": [
       "0.7805904367767766"
      ]
     },
     "execution_count": 192,
     "metadata": {},
     "output_type": "execute_result"
    }
   ],
   "source": [
    "lr.score(X_test,y_test)"
   ]
  },
  {
   "cell_type": "code",
   "execution_count": 199,
   "metadata": {},
   "outputs": [
    {
     "data": {
      "text/plain": [
       "Ridge(alpha=0.01, copy_X=True, fit_intercept=True, max_iter=None,\n",
       "      normalize=False, random_state=None, solver='auto', tol=0.001)"
      ]
     },
     "execution_count": 199,
     "metadata": {},
     "output_type": "execute_result"
    }
   ],
   "source": [
    "rr = Ridge(alpha=0.01) # higher the alpha value, more restriction on the coefficients; low alpha > more generalization, coefficients are barely\n",
    "# restricted and in this case linear and ridge regression resembles\n",
    "rr.fit(X_train, y_train)"
   ]
  },
  {
   "cell_type": "code",
   "execution_count": 200,
   "metadata": {},
   "outputs": [
    {
     "data": {
      "text/plain": [
       "0.7808334361425114"
      ]
     },
     "execution_count": 200,
     "metadata": {},
     "output_type": "execute_result"
    }
   ],
   "source": [
    "rr.score(X_test,y_test)"
   ]
  },
  {
   "cell_type": "code",
   "execution_count": 201,
   "metadata": {},
   "outputs": [],
   "source": [
    "pre=rr.predict(X_test)"
   ]
  },
  {
   "cell_type": "code",
   "execution_count": 202,
   "metadata": {},
   "outputs": [
    {
     "data": {
      "text/plain": [
       "26.02697054854508"
      ]
     },
     "execution_count": 202,
     "metadata": {},
     "output_type": "execute_result"
    }
   ],
   "source": [
    "from sklearn.metrics import mean_squared_error\n",
    "mean_squared_error(pre,y_test)"
   ]
  },
  {
   "cell_type": "code",
   "execution_count": 203,
   "metadata": {},
   "outputs": [
    {
     "data": {
      "text/plain": [
       "5.1016635079692465"
      ]
     },
     "execution_count": 203,
     "metadata": {},
     "output_type": "execute_result"
    }
   ],
   "source": [
    "np.sqrt(np.mean((y_test-pre)**2))"
   ]
  },
  {
   "cell_type": "code",
   "execution_count": 204,
   "metadata": {},
   "outputs": [
    {
     "data": {
      "text/plain": [
       "40.4452297642327"
      ]
     },
     "execution_count": 204,
     "metadata": {},
     "output_type": "execute_result"
    }
   ],
   "source": [
    "np.mean(np.abs((pre - y_test) / y_test)) * 100"
   ]
  },
  {
   "cell_type": "code",
   "execution_count": 205,
   "metadata": {},
   "outputs": [],
   "source": [
    "y_pre=rr.predict(testy)"
   ]
  },
  {
   "cell_type": "code",
   "execution_count": 206,
   "metadata": {},
   "outputs": [],
   "source": [
    "g=pd.read_excel(\"Sample_submission.xlsx\")"
   ]
  },
  {
   "cell_type": "code",
   "execution_count": 207,
   "metadata": {},
   "outputs": [
    {
     "data": {
      "text/html": [
       "<div>\n",
       "<style scoped>\n",
       "    .dataframe tbody tr th:only-of-type {\n",
       "        vertical-align: middle;\n",
       "    }\n",
       "\n",
       "    .dataframe tbody tr th {\n",
       "        vertical-align: top;\n",
       "    }\n",
       "\n",
       "    .dataframe thead th {\n",
       "        text-align: right;\n",
       "    }\n",
       "</style>\n",
       "<table border=\"1\" class=\"dataframe\">\n",
       "  <thead>\n",
       "    <tr style=\"text-align: right;\">\n",
       "      <th></th>\n",
       "      <th>Price</th>\n",
       "    </tr>\n",
       "  </thead>\n",
       "  <tbody>\n",
       "    <tr>\n",
       "      <th>0</th>\n",
       "      <td>55.02</td>\n",
       "    </tr>\n",
       "    <tr>\n",
       "      <th>1</th>\n",
       "      <td>56.46</td>\n",
       "    </tr>\n",
       "    <tr>\n",
       "      <th>2</th>\n",
       "      <td>34.61</td>\n",
       "    </tr>\n",
       "    <tr>\n",
       "      <th>3</th>\n",
       "      <td>16.89</td>\n",
       "    </tr>\n",
       "    <tr>\n",
       "      <th>4</th>\n",
       "      <td>50.48</td>\n",
       "    </tr>\n",
       "  </tbody>\n",
       "</table>\n",
       "</div>"
      ],
      "text/plain": [
       "   Price\n",
       "0  55.02\n",
       "1  56.46\n",
       "2  34.61\n",
       "3  16.89\n",
       "4  50.48"
      ]
     },
     "execution_count": 207,
     "metadata": {},
     "output_type": "execute_result"
    }
   ],
   "source": [
    "g.head()"
   ]
  },
  {
   "cell_type": "code",
   "execution_count": 208,
   "metadata": {},
   "outputs": [],
   "source": [
    "g[\"Price\"]=y_pre"
   ]
  },
  {
   "cell_type": "code",
   "execution_count": 209,
   "metadata": {},
   "outputs": [
    {
     "data": {
      "text/html": [
       "<div>\n",
       "<style scoped>\n",
       "    .dataframe tbody tr th:only-of-type {\n",
       "        vertical-align: middle;\n",
       "    }\n",
       "\n",
       "    .dataframe tbody tr th {\n",
       "        vertical-align: top;\n",
       "    }\n",
       "\n",
       "    .dataframe thead th {\n",
       "        text-align: right;\n",
       "    }\n",
       "</style>\n",
       "<table border=\"1\" class=\"dataframe\">\n",
       "  <thead>\n",
       "    <tr style=\"text-align: right;\">\n",
       "      <th></th>\n",
       "      <th>Price</th>\n",
       "    </tr>\n",
       "  </thead>\n",
       "  <tbody>\n",
       "    <tr>\n",
       "      <th>0</th>\n",
       "      <td>2.263254</td>\n",
       "    </tr>\n",
       "    <tr>\n",
       "      <th>1</th>\n",
       "      <td>0.837894</td>\n",
       "    </tr>\n",
       "    <tr>\n",
       "      <th>2</th>\n",
       "      <td>19.998090</td>\n",
       "    </tr>\n",
       "    <tr>\n",
       "      <th>3</th>\n",
       "      <td>1.481099</td>\n",
       "    </tr>\n",
       "    <tr>\n",
       "      <th>4</th>\n",
       "      <td>4.580764</td>\n",
       "    </tr>\n",
       "  </tbody>\n",
       "</table>\n",
       "</div>"
      ],
      "text/plain": [
       "       Price\n",
       "0   2.263254\n",
       "1   0.837894\n",
       "2  19.998090\n",
       "3   1.481099\n",
       "4   4.580764"
      ]
     },
     "execution_count": 209,
     "metadata": {},
     "output_type": "execute_result"
    }
   ],
   "source": [
    "g.head()"
   ]
  },
  {
   "cell_type": "code",
   "execution_count": 210,
   "metadata": {},
   "outputs": [],
   "source": [
    "g.to_csv(\"submissin.csv\")"
   ]
  },
  {
   "cell_type": "code",
   "execution_count": null,
   "metadata": {},
   "outputs": [],
   "source": []
  }
 ],
 "metadata": {
  "kernelspec": {
   "display_name": "Python 3",
   "language": "python",
   "name": "python3"
  },
  "language_info": {
   "codemirror_mode": {
    "name": "ipython",
    "version": 3
   },
   "file_extension": ".py",
   "mimetype": "text/x-python",
   "name": "python",
   "nbconvert_exporter": "python",
   "pygments_lexer": "ipython3",
   "version": "3.7.3"
  }
 },
 "nbformat": 4,
 "nbformat_minor": 2
}
